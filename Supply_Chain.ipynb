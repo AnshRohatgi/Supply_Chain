{
  "nbformat": 4,
  "nbformat_minor": 0,
  "metadata": {
    "colab": {
      "private_outputs": true,
      "provenance": []
    },
    "kernelspec": {
      "name": "python3",
      "display_name": "Python 3"
    },
    "language_info": {
      "name": "python"
    }
  },
  "cells": [
    {
      "cell_type": "code",
      "execution_count": null,
      "metadata": {
        "id": "Xceu6j7L13sK"
      },
      "outputs": [],
      "source": [
        "import pandas as pd\n",
        "import numpy as np\n",
        "import plotly.express as px\n",
        "import plotly.io as pio\n",
        "import plotly.graph_objects as go\n",
        "pio.templates.default = \"plotly_white\""
      ]
    },
    {
      "cell_type": "code",
      "source": [
        "df=pd.read_csv('/content/ssss.csv')"
      ],
      "metadata": {
        "id": "t8Wjt_Ln3g-T"
      },
      "execution_count": null,
      "outputs": []
    },
    {
      "cell_type": "code",
      "source": [
        "df.head()"
      ],
      "metadata": {
        "id": "pHxtJzVf3nJz"
      },
      "execution_count": null,
      "outputs": []
    },
    {
      "cell_type": "code",
      "source": [
        "print(df.describe())"
      ],
      "metadata": {
        "id": "F4tdzD8I4Saq"
      },
      "execution_count": null,
      "outputs": []
    },
    {
      "cell_type": "code",
      "source": [
        "sales_data = df.groupby('Product type')['Number of products sold'].sum().reset_index()\n"
      ],
      "metadata": {
        "id": "nGwPAvlb6ier"
      },
      "execution_count": null,
      "outputs": []
    },
    {
      "cell_type": "code",
      "source": [
        "sales_data.sort_values(by='Number of products sold',ascending=False)"
      ],
      "metadata": {
        "id": "oAguOuy26lYr"
      },
      "execution_count": null,
      "outputs": []
    },
    {
      "cell_type": "code",
      "source": [
        "#  pie chart by qty sold\n",
        "\n",
        "sales_data = df.groupby('Product type')['Number of products sold'].sum().reset_index()\n",
        "\n",
        "pie_chart = px.pie(sales_data, values='Number of products sold', names='Product type',\n",
        "                   title='Sales by Product Type',\n",
        "                   hover_data=['Number of products sold'],\n",
        "                   hole=0.5,\n",
        "                   color_discrete_sequence=px.colors.qualitative.Pastel)\n",
        "\n",
        "pie_chart.update_traces(textposition='inside', textinfo='percent+label')\n",
        "pie_chart.show()"
      ],
      "metadata": {
        "id": "0Z9PGhRJ6lh1"
      },
      "execution_count": null,
      "outputs": []
    },
    {
      "cell_type": "code",
      "source": [
        "# pie chart by the  revenue sold\n",
        "sales_data_1 = df.groupby('Product type')['Revenue generated'].sum().reset_index()\n",
        "pie_chart = px.pie(sales_data_1, values='Revenue generated', names='Product type',\n",
        "                   title='Sales by Product Type',\n",
        "                   hover_data=['Revenue generated'],\n",
        "                   hole=0.5,\n",
        "                   color_discrete_sequence=px.colors.qualitative.Pastel)\n",
        "\n",
        "pie_chart.update_traces(textposition='inside', textinfo='percent+label')\n",
        "pie_chart.show()"
      ],
      "metadata": {
        "id": "--Cmfzve81MV"
      },
      "execution_count": null,
      "outputs": []
    },
    {
      "cell_type": "code",
      "source": [
        "sales_data_1 = df.groupby('Product type')['Revenue generated'].sum().reset_index()\n",
        "sales_data_1.values"
      ],
      "metadata": {
        "id": "3grl54qD9pQV"
      },
      "execution_count": null,
      "outputs": []
    },
    {
      "cell_type": "code",
      "source": [
        "total_revenue_by_sales=df.groupby('Shipping carriers')['Revenue generated'].sum().reset_index()\n",
        "total_revenue_by_sales.sort_values(by='Revenue generated',ascending=False)"
      ],
      "metadata": {
        "id": "yEzPpqzc_GQT"
      },
      "execution_count": null,
      "outputs": []
    },
    {
      "cell_type": "code",
      "source": [
        "transportation_chart = px.pie(df,\n",
        "                              values='Costs',\n",
        "                              names='Transportation modes',\n",
        "                              title='Cost Distribution by Transportation Mode',\n",
        "                              hole=0.5,\n",
        "                              color_discrete_sequence=px.colors.qualitative.Pastel)\n",
        "transportation_chart.show()"
      ],
      "metadata": {
        "id": "sgTGtszGAs6o"
      },
      "execution_count": null,
      "outputs": []
    },
    {
      "cell_type": "code",
      "source": [
        "defect_rates_by_product = df.groupby('Product type')['Defect rates'].mean().reset_index()\n",
        "defect_rates_by_product"
      ],
      "metadata": {
        "id": "nhaZmHsTLeKq"
      },
      "execution_count": null,
      "outputs": []
    },
    {
      "cell_type": "code",
      "source": [
        "#by product type\n",
        "fig = px.bar(defect_rates_by_product, x='Product type', y='Defect rates',\n",
        "             title='Average Defect Rates by Product Type')\n",
        "fig.show()"
      ],
      "metadata": {
        "id": "kGyPyV86MY7o"
      },
      "execution_count": null,
      "outputs": []
    },
    {
      "cell_type": "code",
      "source": [
        "defect_rates_by_transpotation = df.groupby('Transportation modes')['Defect rates'].mean().reset_index()\n",
        "defect_rates_by_transpotation.sort_values(by='Defect rates',ascending=False)"
      ],
      "metadata": {
        "id": "UPwFpxoCMZAj"
      },
      "execution_count": null,
      "outputs": []
    },
    {
      "cell_type": "code",
      "source": [
        "\n",
        "transportation_chart = px.pie(defect_rates_by_transpotation,values='Defect rates',names='Transportation modes',\n",
        "                              title='Defect Rates by Transportation Mode',\n",
        "                              hole=0.5,\n",
        "                              color_discrete_sequence=px.colors.qualitative.Pastel)\n",
        "transportation_chart.show()\n",
        "\n"
      ],
      "metadata": {
        "id": "qB6sK-KoNoBG"
      },
      "execution_count": null,
      "outputs": []
    }
  ]
}